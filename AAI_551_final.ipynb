{
 "cells": [
  {
   "cell_type": "markdown",
   "metadata": {
    "id": "Q2WTjl_ViBDk"
   },
   "source": [
    "**Final Project AAI-551**"
   ]
  },
  {
   "cell_type": "markdown",
   "metadata": {
    "id": "5Tsa68uLOlqV"
   },
   "source": [
    "Name : Brinda Nathvani , CWID - (20011268)\n",
    "\n",
    "Name : Saumil Trivedi  , CWID - (20011349) \n"
   ]
  },
  {
   "cell_type": "markdown",
   "metadata": {
    "id": "PlY7buQzfAl5"
   },
   "source": [
    " **Introduction:**\n",
    "\n",
    "1. In this project, we build Convolutional Neural Network to classify CIFAR-10 Images.\n",
    "2. We can directly load dataset from many deep learning packages.\n",
    "3. We can use any deep learning packages such as pytorch, keras or tensorflow for this project."
   ]
  },
  {
   "cell_type": "markdown",
   "metadata": {
    "id": "Jy7nK6tyfAl9"
   },
   "source": [
    "## **Data analysis on CIFAR-10 Dataset**"
   ]
  },
  {
   "cell_type": "markdown",
   "metadata": {
    "id": "zKptVI5tfAl9"
   },
   "source": [
    "###  Loading the  data\n"
   ]
  },
  {
   "cell_type": "code",
   "execution_count": 1,
   "metadata": {
    "colab": {
     "base_uri": "https://localhost:8080/"
    },
    "id": "F1ilutzGfAl_",
    "outputId": "e33228a7-337c-4b70-c9d9-7512c436bdcc"
   },
   "outputs": [
    {
     "name": "stdout",
     "output_type": "stream",
     "text": [
      "shape of x_train: (50000, 32, 32, 3)\n",
      "shape of y_train: (50000, 1)\n",
      "shape of x_test: (10000, 32, 32, 3)\n",
      "shape of y_test: (10000, 1)\n",
      "number of classes: 10\n"
     ]
    }
   ],
   "source": [
    "# Load Cifar-10 Data\n",
    "# This is just an example, you may load dataset from other packages.\n",
    "import keras\n",
    "import numpy as np\n",
    "import tensorflow.keras\n",
    "\n",
    "### If you can not load keras dataset, un-comment these two lines.\n",
    "#import ssl\n",
    "#ssl._create_default_https_context = ssl._create_unverified_context\n",
    "\n",
    "(x_train, y_train), (x_test, y_test) = keras.datasets.cifar10.load_data()\n",
    "\n",
    "print('shape of x_train: ' + str(x_train.shape))\n",
    "print('shape of y_train: ' + str(y_train.shape))\n",
    "print('shape of x_test: ' + str(x_test.shape))\n",
    "print('shape of y_test: ' + str(y_test.shape))\n",
    "print('number of classes: ' + str(np.max(y_train) - np.min(y_train) + 1))"
   ]
  },
  {
   "cell_type": "markdown",
   "metadata": {
    "id": "fh37GnCffAmA"
   },
   "source": [
    "### **One-hot encode the labels**\n",
    "\n",
    "In the input, a label is a scalar in $\\{0, 1, \\cdots , 9\\}$. One-hot encode transform such a scalar to a $10$-dim vector. E.g., a scalar ```y_train[j]=3``` is transformed to the vector ```y_train_vec[j]=[0, 0, 0, 1, 0, 0, 0, 0, 0, 0]```.\n",
    "\n"
   ]
  },
  {
   "cell_type": "code",
   "execution_count": 2,
   "metadata": {
    "colab": {
     "base_uri": "https://localhost:8080/"
    },
    "id": "dhjiFC6pfAmA",
    "outputId": "dd5a6b8f-3749-4c77-eb46-09952b0d2366"
   },
   "outputs": [
    {
     "name": "stdout",
     "output_type": "stream",
     "text": [
      "Shape of y_train_vec: (50000, 10)\n",
      "Shape of y_test_vec: (10000, 10)\n",
      "[6]\n",
      "[0. 0. 0. 0. 0. 0. 1. 0. 0. 0.]\n"
     ]
    }
   ],
   "source": [
    "def to_one_hot(y, num_class=10):\n",
    "    y_new = []\n",
    "    for val in y:\n",
    "        tempArr = np.zeros(num_class)\n",
    "        tempArr[val] = 1\n",
    "        y_new.append(tempArr)\n",
    "    \n",
    "    return np.asarray(y_new)\n",
    "    pass\n",
    "    \n",
    "x_train, x_test = x_train.astype('float32') / 255, x_test.astype('float32') / 255\n",
    "y_train_vec = to_one_hot(y_train)\n",
    "y_test_vec = to_one_hot(y_test)\n",
    "\n",
    "print('Shape of y_train_vec: ' + str(y_train_vec.shape))\n",
    "print('Shape of y_test_vec: ' + str(y_test_vec.shape))\n",
    "\n",
    "print(y_train[0])\n",
    "print(y_train_vec[0])"
   ]
  },
  {
   "cell_type": "markdown",
   "metadata": {
    "id": "y7sANFI-fAmA"
   },
   "source": [
    "**Randomly partition the training set to training and validation sets **\n",
    "Randomly partition the 50K training samples to 2 sets: \n",
    "* a training set containing 40K samples: x_tr, y_tr\n",
    "* a validation set containing 10K samples: x_val, y_val\n"
   ]
  },
  {
   "cell_type": "code",
   "execution_count": 3,
   "metadata": {
    "colab": {
     "base_uri": "https://localhost:8080/"
    },
    "id": "lQhnZ722fAmB",
    "outputId": "659716b9-1326-4203-8f5c-b3e8ed8eaa36"
   },
   "outputs": [
    {
     "name": "stdout",
     "output_type": "stream",
     "text": [
      "Shape of x_tr: (40000, 32, 32, 3)\n",
      "Shape of y_tr: (40000, 10)\n",
      "Shape of x_val: (10000, 32, 32, 3)\n",
      "Shape of y_val: (10000, 10)\n"
     ]
    }
   ],
   "source": [
    "from sklearn.model_selection import train_test_split\n",
    "\n",
    "x_tr, x_val, y_tr, y_val = train_test_split(x_train,y_train_vec,test_size=0.2,shuffle=True)\n",
    "\n",
    "print('Shape of x_tr: ' + str(x_tr.shape))\n",
    "print('Shape of y_tr: ' + str(y_tr.shape))\n",
    "print('Shape of x_val: ' + str(x_val.shape))\n",
    "print('Shape of y_val: ' + str(y_val.shape))"
   ]
  },
  {
   "cell_type": "markdown",
   "metadata": {
    "id": "U3riAJLhfAmB"
   },
   "source": [
    "## Building  a CNN and tunning its hyper-parameters\n",
    "\n",
    "\n",
    "\n",
    "\n"
   ]
  },
  {
   "cell_type": "code",
   "execution_count": 4,
   "metadata": {
    "colab": {
     "base_uri": "https://localhost:8080/"
    },
    "id": "J7jSeSmEfAmC",
    "outputId": "01a9e11e-48dc-435f-dd8e-dac25ae8918e"
   },
   "outputs": [
    {
     "name": "stdout",
     "output_type": "stream",
     "text": [
      "Model: \"sequential\"\n",
      "_________________________________________________________________\n",
      " Layer (type)                Output Shape              Param #   \n",
      "=================================================================\n",
      " conv2d (Conv2D)             (None, 30, 30, 32)        896       \n",
      "                                                                 \n",
      " max_pooling2d (MaxPooling2D  (None, 15, 15, 32)       0         \n",
      " )                                                               \n",
      "                                                                 \n",
      " conv2d_1 (Conv2D)           (None, 12, 12, 64)        32832     \n",
      "                                                                 \n",
      " max_pooling2d_1 (MaxPooling  (None, 6, 6, 64)         0         \n",
      " 2D)                                                             \n",
      "                                                                 \n",
      " flatten (Flatten)           (None, 2304)              0         \n",
      "                                                                 \n",
      " dense (Dense)               (None, 256)               590080    \n",
      "                                                                 \n",
      " dense_1 (Dense)             (None, 10)                2570      \n",
      "                                                                 \n",
      "=================================================================\n",
      "Total params: 626,378\n",
      "Trainable params: 626,378\n",
      "Non-trainable params: 0\n",
      "_________________________________________________________________\n"
     ]
    }
   ],
   "source": [
    "# Build the model\n",
    "from keras.layers import Conv2D, MaxPooling2D, Flatten, Dense, Dropout, Activation, BatchNormalization\n",
    "from keras.models import Sequential\n",
    "\n",
    "model = Sequential()\n",
    "model.add(Conv2D(32, (3, 3), activation='relu', input_shape=(32, 32, 3)))\n",
    "model.add(MaxPooling2D((2, 2)))\n",
    "\n",
    "model.add(Conv2D(64, (4, 4), activation='relu'))\n",
    "model.add(MaxPooling2D((2, 2)))\n",
    "\n",
    "model.add(Flatten())\n",
    "model.add(Dense(256, activation='relu'))\n",
    "\n",
    "model.add(Dense(10, activation='softmax'))\n",
    "\n",
    "model.summary()"
   ]
  },
  {
   "cell_type": "code",
   "execution_count": 5,
   "metadata": {
    "id": "O6m2RrKafAmC"
   },
   "outputs": [],
   "source": [
    "# Define model optimizer and loss function\n",
    "from tensorflow.keras import optimizers\n",
    "\n",
    "lr = 0.0001\n",
    "model.compile(loss='categorical_crossentropy', optimizer=optimizers.RMSprop(learning_rate = lr), metrics=['accuracy'])"
   ]
  },
  {
   "cell_type": "code",
   "execution_count": 6,
   "metadata": {
    "colab": {
     "base_uri": "https://localhost:8080/"
    },
    "id": "j0945kBNfAmC",
    "outputId": "984d080f-d524-4bda-84bc-fb6b58f1b410"
   },
   "outputs": [
    {
     "name": "stdout",
     "output_type": "stream",
     "text": [
      "Epoch 1/50\n",
      "313/313 [==============================] - 7s 11ms/step - loss: 1.9793 - accuracy: 0.2966 - val_loss: 1.7815 - val_accuracy: 0.3744\n",
      "Epoch 2/50\n",
      "313/313 [==============================] - 4s 11ms/step - loss: 1.6885 - accuracy: 0.4033 - val_loss: 1.7231 - val_accuracy: 0.3869\n",
      "Epoch 3/50\n",
      "313/313 [==============================] - 4s 13ms/step - loss: 1.5602 - accuracy: 0.4443 - val_loss: 1.5334 - val_accuracy: 0.4540\n",
      "Epoch 4/50\n",
      "313/313 [==============================] - 3s 10ms/step - loss: 1.4665 - accuracy: 0.4803 - val_loss: 1.4519 - val_accuracy: 0.4835\n",
      "Epoch 5/50\n",
      "313/313 [==============================] - 3s 10ms/step - loss: 1.3961 - accuracy: 0.5067 - val_loss: 1.4241 - val_accuracy: 0.4991\n",
      "Epoch 6/50\n",
      "313/313 [==============================] - 3s 10ms/step - loss: 1.3428 - accuracy: 0.5277 - val_loss: 1.3299 - val_accuracy: 0.5325\n",
      "Epoch 7/50\n",
      "313/313 [==============================] - 2s 7ms/step - loss: 1.2971 - accuracy: 0.5444 - val_loss: 1.3057 - val_accuracy: 0.5392\n",
      "Epoch 8/50\n",
      "313/313 [==============================] - 2s 6ms/step - loss: 1.2576 - accuracy: 0.5586 - val_loss: 1.2769 - val_accuracy: 0.5510\n",
      "Epoch 9/50\n",
      "313/313 [==============================] - 2s 6ms/step - loss: 1.2247 - accuracy: 0.5713 - val_loss: 1.2553 - val_accuracy: 0.5573\n",
      "Epoch 10/50\n",
      "313/313 [==============================] - 2s 6ms/step - loss: 1.1938 - accuracy: 0.5840 - val_loss: 1.2559 - val_accuracy: 0.5625\n",
      "Epoch 11/50\n",
      "313/313 [==============================] - 2s 6ms/step - loss: 1.1668 - accuracy: 0.5921 - val_loss: 1.2198 - val_accuracy: 0.5681\n",
      "Epoch 12/50\n",
      "313/313 [==============================] - 2s 7ms/step - loss: 1.1423 - accuracy: 0.6014 - val_loss: 1.1997 - val_accuracy: 0.5862\n",
      "Epoch 13/50\n",
      "313/313 [==============================] - 2s 7ms/step - loss: 1.1171 - accuracy: 0.6152 - val_loss: 1.1914 - val_accuracy: 0.5773\n",
      "Epoch 14/50\n",
      "313/313 [==============================] - 2s 7ms/step - loss: 1.0960 - accuracy: 0.6165 - val_loss: 1.1499 - val_accuracy: 0.5952\n",
      "Epoch 15/50\n",
      "313/313 [==============================] - 2s 6ms/step - loss: 1.0726 - accuracy: 0.6273 - val_loss: 1.1711 - val_accuracy: 0.5926\n",
      "Epoch 16/50\n",
      "313/313 [==============================] - 2s 6ms/step - loss: 1.0501 - accuracy: 0.6356 - val_loss: 1.1541 - val_accuracy: 0.5967\n",
      "Epoch 17/50\n",
      "313/313 [==============================] - 2s 6ms/step - loss: 1.0335 - accuracy: 0.6409 - val_loss: 1.0885 - val_accuracy: 0.6195\n",
      "Epoch 18/50\n",
      "313/313 [==============================] - 2s 6ms/step - loss: 1.0153 - accuracy: 0.6474 - val_loss: 1.1253 - val_accuracy: 0.6054\n",
      "Epoch 19/50\n",
      "313/313 [==============================] - 2s 7ms/step - loss: 0.9977 - accuracy: 0.6545 - val_loss: 1.0896 - val_accuracy: 0.6141\n",
      "Epoch 20/50\n",
      "313/313 [==============================] - 2s 6ms/step - loss: 0.9835 - accuracy: 0.6595 - val_loss: 1.0669 - val_accuracy: 0.6328\n",
      "Epoch 21/50\n",
      "313/313 [==============================] - 2s 6ms/step - loss: 0.9671 - accuracy: 0.6651 - val_loss: 1.0718 - val_accuracy: 0.6242\n",
      "Epoch 22/50\n",
      "313/313 [==============================] - 2s 6ms/step - loss: 0.9535 - accuracy: 0.6693 - val_loss: 1.0417 - val_accuracy: 0.6393\n",
      "Epoch 23/50\n",
      "313/313 [==============================] - 2s 6ms/step - loss: 0.9386 - accuracy: 0.6769 - val_loss: 1.0305 - val_accuracy: 0.6376\n",
      "Epoch 24/50\n",
      "313/313 [==============================] - 2s 8ms/step - loss: 0.9237 - accuracy: 0.6802 - val_loss: 1.0243 - val_accuracy: 0.6453\n",
      "Epoch 25/50\n",
      "313/313 [==============================] - 2s 7ms/step - loss: 0.9104 - accuracy: 0.6872 - val_loss: 1.1012 - val_accuracy: 0.6127\n",
      "Epoch 26/50\n",
      "313/313 [==============================] - 2s 6ms/step - loss: 0.8968 - accuracy: 0.6898 - val_loss: 1.0597 - val_accuracy: 0.6303\n",
      "Epoch 27/50\n",
      "313/313 [==============================] - 2s 6ms/step - loss: 0.8840 - accuracy: 0.6939 - val_loss: 1.1500 - val_accuracy: 0.6030\n",
      "Epoch 28/50\n",
      "313/313 [==============================] - 2s 6ms/step - loss: 0.8732 - accuracy: 0.6999 - val_loss: 0.9837 - val_accuracy: 0.6594\n",
      "Epoch 29/50\n",
      "313/313 [==============================] - 2s 6ms/step - loss: 0.8608 - accuracy: 0.7031 - val_loss: 1.0070 - val_accuracy: 0.6500\n",
      "Epoch 30/50\n",
      "313/313 [==============================] - 2s 7ms/step - loss: 0.8484 - accuracy: 0.7081 - val_loss: 1.0711 - val_accuracy: 0.6354\n",
      "Epoch 31/50\n",
      "313/313 [==============================] - 2s 7ms/step - loss: 0.8376 - accuracy: 0.7129 - val_loss: 0.9916 - val_accuracy: 0.6572\n",
      "Epoch 32/50\n",
      "313/313 [==============================] - 2s 6ms/step - loss: 0.8264 - accuracy: 0.7155 - val_loss: 0.9996 - val_accuracy: 0.6578\n",
      "Epoch 33/50\n",
      "313/313 [==============================] - 2s 6ms/step - loss: 0.8144 - accuracy: 0.7211 - val_loss: 1.0118 - val_accuracy: 0.6501\n",
      "Epoch 34/50\n",
      "313/313 [==============================] - 2s 6ms/step - loss: 0.8033 - accuracy: 0.7241 - val_loss: 1.0699 - val_accuracy: 0.6333\n",
      "Epoch 35/50\n",
      "313/313 [==============================] - 2s 6ms/step - loss: 0.7927 - accuracy: 0.7308 - val_loss: 0.9632 - val_accuracy: 0.6698\n",
      "Epoch 36/50\n",
      "313/313 [==============================] - 2s 6ms/step - loss: 0.7833 - accuracy: 0.7291 - val_loss: 0.9966 - val_accuracy: 0.6575\n",
      "Epoch 37/50\n",
      "313/313 [==============================] - 3s 9ms/step - loss: 0.7707 - accuracy: 0.7357 - val_loss: 1.0242 - val_accuracy: 0.6496\n",
      "Epoch 38/50\n",
      "313/313 [==============================] - 2s 6ms/step - loss: 0.7614 - accuracy: 0.7397 - val_loss: 0.9682 - val_accuracy: 0.6694\n",
      "Epoch 39/50\n",
      "313/313 [==============================] - 2s 6ms/step - loss: 0.7500 - accuracy: 0.7432 - val_loss: 0.9732 - val_accuracy: 0.6660\n",
      "Epoch 40/50\n",
      "313/313 [==============================] - 2s 6ms/step - loss: 0.7403 - accuracy: 0.7456 - val_loss: 1.0116 - val_accuracy: 0.6540\n",
      "Epoch 41/50\n",
      "313/313 [==============================] - 2s 6ms/step - loss: 0.7297 - accuracy: 0.7511 - val_loss: 0.9738 - val_accuracy: 0.6685\n",
      "Epoch 42/50\n",
      "313/313 [==============================] - 2s 6ms/step - loss: 0.7200 - accuracy: 0.7542 - val_loss: 0.9769 - val_accuracy: 0.6661\n",
      "Epoch 43/50\n",
      "313/313 [==============================] - 2s 7ms/step - loss: 0.7094 - accuracy: 0.7579 - val_loss: 0.9292 - val_accuracy: 0.6815\n",
      "Epoch 44/50\n",
      "313/313 [==============================] - 2s 6ms/step - loss: 0.7013 - accuracy: 0.7624 - val_loss: 0.9558 - val_accuracy: 0.6784\n",
      "Epoch 45/50\n",
      "313/313 [==============================] - 2s 6ms/step - loss: 0.6913 - accuracy: 0.7661 - val_loss: 0.9498 - val_accuracy: 0.6764\n",
      "Epoch 46/50\n",
      "313/313 [==============================] - 2s 7ms/step - loss: 0.6803 - accuracy: 0.7683 - val_loss: 0.9325 - val_accuracy: 0.6831\n",
      "Epoch 47/50\n",
      "313/313 [==============================] - 2s 6ms/step - loss: 0.6703 - accuracy: 0.7713 - val_loss: 0.9189 - val_accuracy: 0.6869\n",
      "Epoch 48/50\n",
      "313/313 [==============================] - 2s 7ms/step - loss: 0.6596 - accuracy: 0.7763 - val_loss: 0.9614 - val_accuracy: 0.6762\n",
      "Epoch 49/50\n",
      "313/313 [==============================] - 2s 7ms/step - loss: 0.6505 - accuracy: 0.7780 - val_loss: 0.9626 - val_accuracy: 0.6774\n",
      "Epoch 50/50\n",
      "313/313 [==============================] - 2s 6ms/step - loss: 0.6417 - accuracy: 0.7846 - val_loss: 0.9653 - val_accuracy: 0.6769\n"
     ]
    }
   ],
   "source": [
    "# Train the model and store model parameters/loss values\n",
    "model_1 = model.fit(x_tr, y_tr, batch_size=128, epochs=50, validation_data=(x_val, y_val))\n",
    "model.save('model_1.h5')"
   ]
  },
  {
   "cell_type": "markdown",
   "metadata": {
    "id": "EeV_9G3afAmD"
   },
   "source": [
    "## Plot the training and validation loss curve versus epochs."
   ]
  },
  {
   "cell_type": "code",
   "execution_count": 7,
   "metadata": {
    "colab": {
     "base_uri": "https://localhost:8080/"
    },
    "id": "XI1C67xikZDa",
    "outputId": "d2a94ba5-d472-4ce4-f2ec-18e34730bcd8"
   },
   "outputs": [
    {
     "data": {
      "text/plain": [
       "dict_keys(['loss', 'accuracy', 'val_loss', 'val_accuracy'])"
      ]
     },
     "execution_count": 7,
     "metadata": {},
     "output_type": "execute_result"
    }
   ],
   "source": [
    "model_1.history.keys()"
   ]
  },
  {
   "cell_type": "code",
   "execution_count": 8,
   "metadata": {
    "colab": {
     "base_uri": "https://localhost:8080/",
     "height": 449
    },
    "id": "cMJcNVJZfAmD",
    "outputId": "bbb5dd90-2505-423d-8c0b-b941dd20a896"
   },
   "outputs": [
    {
     "data": {
      "image/png": "[encoded data removed]",
      "text/plain": [
       "<Figure size 640x480 with 1 Axes>"
      ]
     },
     "metadata": {},
     "output_type": "display_data"
    }
   ],
   "source": [
    "# Plot the loss curve\n",
    "\n",
    "import matplotlib.pyplot as plt\n",
    "#%matplotlib inline\n",
    "\n",
    "loss = model_1.history['loss']\n",
    "val_loss = model_1.history['val_loss']\n",
    "\n",
    "plt.xlabel('Epochs')\n",
    "plt.ylabel('Loss')\n",
    "\n",
    "epochs = range(len(loss))\n",
    "\n",
    "plt.plot(epochs, loss, 'red', label='Training loss')\n",
    "plt.plot(epochs, val_loss, 'green', label='Validation loss')\n",
    "\n",
    "plt.legend()\n",
    "plt.show()"
   ]
  },
  {
   "cell_type": "code",
   "execution_count": 9,
   "metadata": {
    "colab": {
     "base_uri": "https://localhost:8080/",
     "height": 449
    },
    "id": "1NKm3-KjbvuK",
    "outputId": "b99488b1-ca79-4d60-fc70-d203a518e223"
   },
   "outputs": [
    {
     "data": {
      "image/png": "[encoded data removed]",
      "text/plain": [
       "<Figure size 640x480 with 1 Axes>"
      ]
     },
     "metadata": {},
     "output_type": "display_data"
    }
   ],
   "source": [
    "# Plot the Accuracy  curve\n",
    "\n",
    "import matplotlib.pyplot as plt\n",
    "#%matplotlib inline\n",
    "\n",
    "accu = model_1.history['accuracy']\n",
    "val_accu = model_1.history['val_accuracy']\n",
    "\n",
    "plt.xlabel('Epochs')\n",
    "plt.ylabel('accu')\n",
    "\n",
    "epochs = range(len(accu))\n",
    "\n",
    "plt.plot(epochs, accu, 'red', label='Training Accuracy ')\n",
    "plt.plot(epochs, val_accu, 'green', label='Validation Accuracy ')\n",
    "\n",
    "plt.legend()\n",
    "plt.show()"
   ]
  },
  {
   "cell_type": "markdown",
   "metadata": {
    "id": "AyT-hyaRfAmD"
   },
   "source": [
    "## Train (again) and evaluating the model"
   ]
  },
  {
   "cell_type": "markdown",
   "metadata": {
    "id": "E4rL93azfAmD"
   },
   "source": [
    "### Train the model on the entire training set\n",
    "\n",
    "Why? Previously, we used 40K samples for training; you wasted 10K samples for the sake of hyper-parameter tuning. Now you already know the hyper-parameters, so why not using all the 50K samples for training?"
   ]
  },
  {
   "cell_type": "code",
   "execution_count": 10,
   "metadata": {
    "id": "7-Ed-fZzfAmD"
   },
   "outputs": [],
   "source": [
    "#<Compile your model again (using the same hyper-parameters you tuned above)>\n",
    "model = Sequential()\n",
    "model.add(Conv2D(32, (3, 3), activation = 'relu', input_shape=(32, 32, 3)))\n",
    "\n",
    "model.add(MaxPooling2D((2, 2)))\n",
    "\n",
    "model.add(Conv2D(64, (4, 4), activation = 'relu'))\n",
    "\n",
    "model.add(MaxPooling2D((2, 2)))\n",
    "\n",
    "model.add(Flatten())\n",
    "model.add(Dense(256, activation = 'relu'))\n",
    "model.add(Dense(10, activation='softmax'))\n",
    "\n",
    "\n",
    "model.compile(loss='categorical_crossentropy', optimizer=optimizers.RMSprop(learning_rate = 0.0001) , metrics=['acc'])"
   ]
  },
  {
   "cell_type": "code",
   "execution_count": 11,
   "metadata": {
    "colab": {
     "base_uri": "https://localhost:8080/"
    },
    "id": "y_s-BlXBfAmE",
    "outputId": "7ff8ab9a-21ae-4721-be63-3f2234e13854"
   },
   "outputs": [
    {
     "name": "stdout",
     "output_type": "stream",
     "text": [
      "Epoch 1/50\n",
      "391/391 [==============================] - 4s 7ms/step - loss: 1.9171 - acc: 0.3247\n",
      "Epoch 2/50\n",
      "391/391 [==============================] - 2s 5ms/step - loss: 1.6056 - acc: 0.4357\n",
      "Epoch 3/50\n",
      "391/391 [==============================] - 2s 5ms/step - loss: 1.4844 - acc: 0.4780\n",
      "Epoch 4/50\n",
      "391/391 [==============================] - 2s 5ms/step - loss: 1.4078 - acc: 0.5090\n",
      "Epoch 5/50\n",
      "391/391 [==============================] - 2s 5ms/step - loss: 1.3491 - acc: 0.5275\n",
      "Epoch 6/50\n",
      "391/391 [==============================] - 2s 6ms/step - loss: 1.2965 - acc: 0.5466\n",
      "Epoch 7/50\n",
      "391/391 [==============================] - 2s 5ms/step - loss: 1.2545 - acc: 0.5656\n",
      "Epoch 8/50\n",
      "391/391 [==============================] - 2s 5ms/step - loss: 1.2149 - acc: 0.5775\n",
      "Epoch 9/50\n",
      "391/391 [==============================] - 2s 5ms/step - loss: 1.1793 - acc: 0.5916\n",
      "Epoch 10/50\n",
      "391/391 [==============================] - 2s 5ms/step - loss: 1.1492 - acc: 0.6022\n",
      "Epoch 11/50\n",
      "391/391 [==============================] - 2s 5ms/step - loss: 1.1218 - acc: 0.6123\n",
      "Epoch 12/50\n",
      "391/391 [==============================] - 3s 7ms/step - loss: 1.0949 - acc: 0.6197\n",
      "Epoch 13/50\n",
      "391/391 [==============================] - 2s 5ms/step - loss: 1.0689 - acc: 0.6319\n",
      "Epoch 14/50\n",
      "391/391 [==============================] - 2s 5ms/step - loss: 1.0478 - acc: 0.6378\n",
      "Epoch 15/50\n",
      "391/391 [==============================] - 2s 5ms/step - loss: 1.0276 - acc: 0.6440\n",
      "Epoch 16/50\n",
      "391/391 [==============================] - 2s 5ms/step - loss: 1.0086 - acc: 0.6505\n",
      "Epoch 17/50\n",
      "391/391 [==============================] - 2s 6ms/step - loss: 0.9908 - acc: 0.6583\n",
      "Epoch 18/50\n",
      "391/391 [==============================] - 2s 6ms/step - loss: 0.9706 - acc: 0.6639\n",
      "Epoch 19/50\n",
      "391/391 [==============================] - 2s 5ms/step - loss: 0.9540 - acc: 0.6728\n",
      "Epoch 20/50\n",
      "391/391 [==============================] - 2s 5ms/step - loss: 0.9385 - acc: 0.6756\n",
      "Epoch 21/50\n",
      "391/391 [==============================] - 2s 5ms/step - loss: 0.9200 - acc: 0.6837\n",
      "Epoch 22/50\n",
      "391/391 [==============================] - 2s 5ms/step - loss: 0.9041 - acc: 0.6876\n",
      "Epoch 23/50\n",
      "391/391 [==============================] - 2s 6ms/step - loss: 0.8893 - acc: 0.6931\n",
      "Epoch 24/50\n",
      "391/391 [==============================] - 2s 6ms/step - loss: 0.8747 - acc: 0.6996\n",
      "Epoch 25/50\n",
      "391/391 [==============================] - 2s 5ms/step - loss: 0.8588 - acc: 0.7056\n",
      "Epoch 26/50\n",
      "391/391 [==============================] - 2s 5ms/step - loss: 0.8466 - acc: 0.7109\n",
      "Epoch 27/50\n",
      "391/391 [==============================] - 2s 5ms/step - loss: 0.8323 - acc: 0.7140\n",
      "Epoch 28/50\n",
      "391/391 [==============================] - 2s 5ms/step - loss: 0.8201 - acc: 0.7194\n",
      "Epoch 29/50\n",
      "391/391 [==============================] - 2s 6ms/step - loss: 0.8065 - acc: 0.7243\n",
      "Epoch 30/50\n",
      "391/391 [==============================] - 2s 6ms/step - loss: 0.7911 - acc: 0.7303\n",
      "Epoch 31/50\n",
      "391/391 [==============================] - 2s 5ms/step - loss: 0.7799 - acc: 0.7345\n",
      "Epoch 32/50\n",
      "391/391 [==============================] - 2s 5ms/step - loss: 0.7679 - acc: 0.7380\n",
      "Epoch 33/50\n",
      "391/391 [==============================] - 2s 5ms/step - loss: 0.7552 - acc: 0.7435\n",
      "Epoch 34/50\n",
      "391/391 [==============================] - 2s 5ms/step - loss: 0.7415 - acc: 0.7485\n",
      "Epoch 35/50\n",
      "391/391 [==============================] - 2s 6ms/step - loss: 0.7320 - acc: 0.7501\n",
      "Epoch 36/50\n",
      "391/391 [==============================] - 2s 5ms/step - loss: 0.7177 - acc: 0.7565\n",
      "Epoch 37/50\n",
      "391/391 [==============================] - 2s 5ms/step - loss: 0.7059 - acc: 0.7603\n",
      "Epoch 38/50\n",
      "391/391 [==============================] - 2s 5ms/step - loss: 0.6948 - acc: 0.7648\n",
      "Epoch 39/50\n",
      "391/391 [==============================] - 2s 5ms/step - loss: 0.6827 - acc: 0.7693\n",
      "Epoch 40/50\n",
      "391/391 [==============================] - 2s 6ms/step - loss: 0.6715 - acc: 0.7742\n",
      "Epoch 41/50\n",
      "391/391 [==============================] - 2s 6ms/step - loss: 0.6586 - acc: 0.7762\n",
      "Epoch 42/50\n",
      "391/391 [==============================] - 2s 5ms/step - loss: 0.6484 - acc: 0.7819\n",
      "Epoch 43/50\n",
      "391/391 [==============================] - 2s 5ms/step - loss: 0.6382 - acc: 0.7859\n",
      "Epoch 44/50\n",
      "391/391 [==============================] - 2s 5ms/step - loss: 0.6268 - acc: 0.7899\n",
      "Epoch 45/50\n",
      "391/391 [==============================] - 2s 5ms/step - loss: 0.6163 - acc: 0.7931\n",
      "Epoch 46/50\n",
      "391/391 [==============================] - 2s 6ms/step - loss: 0.6042 - acc: 0.7994\n",
      "Epoch 47/50\n",
      "391/391 [==============================] - 2s 6ms/step - loss: 0.5938 - acc: 0.8003\n",
      "Epoch 48/50\n",
      "391/391 [==============================] - 2s 5ms/step - loss: 0.5836 - acc: 0.8043\n",
      "Epoch 49/50\n",
      "391/391 [==============================] - 2s 5ms/step - loss: 0.5739 - acc: 0.8093\n",
      "Epoch 50/50\n",
      "391/391 [==============================] - 2s 5ms/step - loss: 0.5605 - acc: 0.8113\n"
     ]
    }
   ],
   "source": [
    "#<Train your model on the entire training set (50K samples)>\n",
    "model_2 = model.fit(x_train, y_train_vec, batch_size=128, epochs=50)\n",
    "model.save('model_2.h5')"
   ]
  },
  {
   "cell_type": "code",
   "execution_count": 12,
   "metadata": {
    "colab": {
     "base_uri": "https://localhost:8080/",
     "height": 449
    },
    "id": "Z8oYN30fXT_-",
    "outputId": "5a5dfe51-abd8-4a60-c25c-3a5a619206ae"
   },
   "outputs": [
    {
     "data": {
      "image/png": "[encoded data removed]",
      "text/plain": [
       "<Figure size 640x480 with 1 Axes>"
      ]
     },
     "metadata": {},
     "output_type": "display_data"
    }
   ],
   "source": [
    "# Plot the loss curve\n",
    "\n",
    "import matplotlib.pyplot as plt\n",
    "#%matplotlib inline\n",
    "\n",
    "loss = model_2.history['loss']\n",
    "\n",
    "\n",
    "plt.xlabel('Epochs')\n",
    "plt.ylabel('Loss')\n",
    "\n",
    "epochs = range(len(loss))\n",
    "\n",
    "plt.plot(epochs, loss, 'red', label='Training loss')\n",
    "\n",
    "plt.legend()\n",
    "plt.show()"
   ]
  },
  {
   "cell_type": "code",
   "execution_count": 13,
   "metadata": {
    "colab": {
     "base_uri": "https://localhost:8080/",
     "height": 449
    },
    "id": "NJTIzuxXXXDM",
    "outputId": "ba75642c-1a01-4465-84db-5c029f1fd278"
   },
   "outputs": [
    {
     "data": {
      "image/png": "[encoded data removed]",
      "text/plain": [
       "<Figure size 640x480 with 1 Axes>"
      ]
     },
     "metadata": {},
     "output_type": "display_data"
    }
   ],
   "source": [
    "# Plot the Accuracy curve\n",
    "\n",
    "import matplotlib.pyplot as plt\n",
    "#%matplotlib inline\n",
    "\n",
    "accu = model_2.history['acc']\n",
    "\n",
    "\n",
    "plt.xlabel('Epochs')\n",
    "plt.ylabel('accu')\n",
    "epochs = range(len(accu))\n",
    "\n",
    "plt.plot(epochs, accu, 'Green', label='Training accuracy')\n",
    "\n",
    "plt.legend()\n",
    "plt.show()"
   ]
  },
  {
   "cell_type": "markdown",
   "metadata": {
    "id": "QUndN4nvUW2D"
   },
   "source": [
    "**Evaluate the model on the test set**\n",
    "\n",
    "Do NOT use the test set until now. Make sure that your model parameters and hyper-parameters are independent of the test set."
   ]
  },
  {
   "cell_type": "code",
   "execution_count": 14,
   "metadata": {
    "colab": {
     "base_uri": "https://localhost:8080/"
    },
    "id": "OMECTkfZT7ZN",
    "outputId": "d1d148b0-5d3d-440b-952b-f4289e0e6d60"
   },
   "outputs": [
    {
     "name": "stdout",
     "output_type": "stream",
     "text": [
      "313/313 [==============================] - 1s 3ms/step - loss: 0.9513 - accuracy: 0.6782\n",
      "loss = 0.9512962698936462\n",
      "accuracy = 0.6782000064849854\n"
     ]
    }
   ],
   "source": [
    "from keras.models import load_model\n",
    "\n",
    "current_model = load_model('model_1.h5')\n",
    "Current_acc = current_model.evaluate(x_test, y_test_vec)\n",
    "print('loss = ' + str(Current_acc[0]))\n",
    "print('accuracy = ' + str(Current_acc[1]))"
   ]
  },
  {
   "cell_type": "code",
   "execution_count": 15,
   "metadata": {
    "colab": {
     "base_uri": "https://localhost:8080/"
    },
    "id": "edBBum9JT7GF",
    "outputId": "9539004c-54c6-43f3-b500-e84965dac975"
   },
   "outputs": [
    {
     "name": "stdout",
     "output_type": "stream",
     "text": [
      "313/313 [==============================] - 1s 3ms/step - loss: 0.9222 - acc: 0.6905\n",
      "loss = 0.9222323298454285\n",
      "accuracy = 0.690500020980835\n"
     ]
    }
   ],
   "source": [
    "current_model = load_model('model_2.h5')\n",
    "Current_acc = current_model.evaluate(x_test, y_test_vec)\n",
    "print('loss = ' + str(Current_acc[0]))\n",
    "print('accuracy = ' + str(Current_acc[1]))"
   ]
  }
 ],
 "metadata": {
  "accelerator": "GPU",
  "colab": {
   "gpuType": "T4",
   "provenance": []
  },
  "gpuClass": "standard",
  "kernelspec": {
   "display_name": "Python 3 (ipykernel)",
   "language": "python",
   "name": "python3"
  },
  "language_info": {
   "codemirror_mode": {
    "name": "ipython",
    "version": 3
   },
   "file_extension": ".py",
   "mimetype": "text/x-python",
   "name": "python",
   "nbconvert_exporter": "python",
   "pygments_lexer": "ipython3",
   "version": "3.9.13"
  }
 },
 "nbformat": 4,
 "nbformat_minor": 1
}
